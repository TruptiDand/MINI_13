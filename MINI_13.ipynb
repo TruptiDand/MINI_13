{
 "cells": [
  {
   "cell_type": "code",
   "execution_count": null,
   "id": "dd141c95",
   "metadata": {},
   "outputs": [],
   "source": [
    "import pandas as pd\n",
    "import numpy as np\n",
    "from sklearn.model_selection import train_test_split\n",
    "from sklearn.naive_bayes import MultinomialNB\n",
    "from sklearn.svm import SVC\n",
    "from sklearn.tree import DecisionTreeClassifier\n",
    "from sklearn.ensemble import RandomForestClassifier\n",
    "from sklearn.ensemble import BaggingClassifier\n",
    "from sklearn.metrics import accuracy_score, confusion_matrix, classification_report"
   ]
  },
  {
   "cell_type": "code",
   "execution_count": null,
   "id": "487a5b52",
   "metadata": {},
   "outputs": [],
   "source": [
    "input=pd.read_csv(r\"E:\\DSspec\\Email classification\")\n",
    "print(input)"
   ]
  },
  {
   "cell_type": "code",
   "execution_count": null,
   "id": "c786efff",
   "metadata": {},
   "outputs": [],
   "source": [
    "print(input.isnull().sum())"
   ]
  },
  {
   "cell_type": "code",
   "execution_count": null,
   "id": "9127f7b1",
   "metadata": {},
   "outputs": [],
   "source": [
    "X = input.iloc[:,1:3001]\n",
    "Y = input.iloc[:,-1].values\n",
    "train_x,test_x,train_y,test_y = train_test_split(X,Y,test_size = 0.25)"
   ]
  },
  {
   "cell_type": "code",
   "execution_count": null,
   "id": "3f77059e",
   "metadata": {},
   "outputs": [],
   "source": [
    "mnb = MultinomialNB(alpha=0.1) # reduce the alpha to get good result      \n",
    "mnb.fit(train_x,train_y)\n",
    "y_pred = mnb.predict(test_x)\n",
    "print(\"Accuracy Score for Naive Bayes : \", accuracy_score(y_pred,test_y))"
   ]
  },
  {
   "cell_type": "code",
   "execution_count": null,
   "id": "bd48897f",
   "metadata": {},
   "outputs": [],
   "source": [
    "svc = SVC(C=5.0,kernel='linear')  #kernel{‘linear’, ‘poly’, ‘rbf’, ‘sigmoid’, ‘precomputed’}\n",
    "svc.fit(train_x,train_y)\n",
    "y_pred2 = svc.predict(test_x)\n",
    "print(\"Accuracy Score for SVC : \", accuracy_score(y_pred2,test_y))\n"
   ]
  },
  {
   "cell_type": "code",
   "execution_count": null,
   "id": "6bc20721",
   "metadata": {},
   "outputs": [],
   "source": [
    "dt = DecisionTreeClassifier(max_features=1.0,splitter='random', max_depth=217)\n",
    "dt.fit(train_x, train_y)\n",
    "y_pred4 = dt.predict(test_x)\n",
    "print('Accuracy score of Decision Tree:', accuracy_score(test_y, y_pred4))"
   ]
  },
  {
   "cell_type": "code",
   "execution_count": null,
   "id": "369d21f1",
   "metadata": {},
   "outputs": [],
   "source": [
    "from sklearn.ensemble import BaggingClassifier\n",
    "Naivebag = BaggingClassifier(mnb, n_estimators=100, max_samples=1.0,\n",
    "random_state=1)\n",
    "Naivebag.fit(train_x, train_y)\n",
    "\n",
    "Svmbag = BaggingClassifier(svc, n_estimators=100, max_samples=1.0,\n",
    "random_state=1)\n",
    "Svmbag.fit(train_x, train_y)\n",
    "\n",
    "Decisionbag = BaggingClassifier(dt, n_estimators=100, max_samples=1.0,\n",
    "random_state=1)\n",
    "Decisionbag.fit(train_x, train_y)\n",
    "\n",
    "RandomBag = BaggingClassifier(rfc, n_estimators=100, max_samples=1.0,\n",
    "random_state=1)\n",
    "RandomBag.fit(train_x, train_y)\n",
    "\n",
    "bag1 = Naivebag.predict(test_x)\n",
    "print(\"AS - Bagged Naive\",accuracy_score(test_y, bag1))\n",
    "bag2 = Svmbag.predict(test_x)\n",
    "print(\"AS - Bagged SVM\",accuracy_score(test_y, bag2))\n",
    "bag3 = Decisionbag.predict(test_x)\n",
    "print(\"AS - Bagged DecisionTree\",accuracy_score(test_y, bag3))\n",
    "bag4 = RandomBag.predict(test_x)\n",
    "print(\"AS - Bagged Random Forest\",accuracy_score(test_y, bag4))\n"
   ]
  }
 ],
 "metadata": {
  "kernelspec": {
   "display_name": "Python 3 (ipykernel)",
   "language": "python",
   "name": "python3"
  },
  "language_info": {
   "codemirror_mode": {
    "name": "ipython",
    "version": 3
   },
   "file_extension": ".py",
   "mimetype": "text/x-python",
   "name": "python",
   "nbconvert_exporter": "python",
   "pygments_lexer": "ipython3",
   "version": "3.9.9"
  }
 },
 "nbformat": 4,
 "nbformat_minor": 5
}
